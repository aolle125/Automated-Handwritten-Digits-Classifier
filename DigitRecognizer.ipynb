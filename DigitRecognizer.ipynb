{
 "cells": [
  {
   "cell_type": "code",
   "execution_count": 1,
   "metadata": {},
   "outputs": [
    {
     "name": "stdout",
     "output_type": "stream",
     "text": [
      "*************IMPORTING REQUIRED FUNCTIONS AND MODULES****************\n"
     ]
    }
   ],
   "source": [
    "import pandas as pd\n",
    "import numpy as np\n",
    "import matplotlib.pyplot as plt\n",
    "from sklearn import preprocessing\n",
    "from sklearn.model_selection import train_test_split\n",
    "from sklearn.model_selection import cross_val_score\n",
    "from sklearn.model_selection import learning_curve\n",
    "from sklearn.model_selection import ShuffleSplit\n",
    "from sklearn.metrics import classification_report, confusion_matrix, accuracy_score\n",
    "import random\n",
    "from time import time\n",
    "from operator import itemgetter\n",
    "from scipy.stats import randint as sp_randint\n",
    "from sklearn.model_selection import GridSearchCV, RandomizedSearchCV\n",
    "from sklearn.datasets import load_digits\n",
    "from sklearn.tree import DecisionTreeClassifier\n",
    "from sklearn.preprocessing import StandardScaler, MinMaxScaler\n",
    "from sklearn.decomposition import PCA\n",
    "import seaborn as sns\n",
    "from sklearn.model_selection import learning_curve\n",
    "\n",
    "print(\"*************IMPORTING REQUIRED FUNCTIONS AND MODULES****************\")"
   ]
  },
  {
   "cell_type": "markdown",
   "metadata": {},
   "source": [
    "### Data Reading and Annotation"
   ]
  },
  {
   "cell_type": "code",
   "execution_count": 2,
   "metadata": {},
   "outputs": [],
   "source": [
    "col = ['x1','y1','x2','y2','x3','y3','x4','y4','x5','y5','x6','y6','x7','y7','x8','y8', 'label']"
   ]
  },
  {
   "cell_type": "code",
   "execution_count": 3,
   "metadata": {},
   "outputs": [],
   "source": [
    "dataset_pen_train = pd.read_csv('pendigits.tra', sep= ',', header=None, names= col)"
   ]
  },
  {
   "cell_type": "code",
   "execution_count": 4,
   "metadata": {},
   "outputs": [],
   "source": [
    "dataset_pen_test = pd.read_csv('pendigits.tes', sep= ',', header=None , names = col)"
   ]
  },
  {
   "cell_type": "code",
   "execution_count": 5,
   "metadata": {},
   "outputs": [],
   "source": [
    "col1 = ['label']+[str(i) for i in range(784)]"
   ]
  },
  {
   "cell_type": "code",
   "execution_count": 6,
   "metadata": {},
   "outputs": [],
   "source": [
    "dataset_mnist_train = pd.read_csv('mnist_train.csv',header=0, names= col1)\n"
   ]
  },
  {
   "cell_type": "code",
   "execution_count": 7,
   "metadata": {},
   "outputs": [],
   "source": [
    "dataset_mnist_test = pd.read_csv('mnist_test.csv', header=0, names= col1)"
   ]
  },
  {
   "cell_type": "markdown",
   "metadata": {},
   "source": [
    "### Appending Training and Testing Datasets \n"
   ]
  },
  {
   "cell_type": "code",
   "execution_count": 8,
   "metadata": {},
   "outputs": [],
   "source": [
    "dataset_mnist = dataset_mnist_train.append(dataset_mnist_test)"
   ]
  },
  {
   "cell_type": "code",
   "execution_count": 9,
   "metadata": {},
   "outputs": [],
   "source": [
    "dataset_pen = dataset_pen_train.append(dataset_pen_test)"
   ]
  },
  {
   "cell_type": "markdown",
   "metadata": {},
   "source": [
    "### Performing Exploratory Data Analysis"
   ]
  },
  {
   "cell_type": "code",
   "execution_count": 10,
   "metadata": {},
   "outputs": [
    {
     "data": {
      "text/plain": [
       "((10992, 17), 186864)"
      ]
     },
     "execution_count": 10,
     "metadata": {},
     "output_type": "execute_result"
    }
   ],
   "source": [
    "dataset_pen.shape , dataset_pen.size"
   ]
  },
  {
   "cell_type": "code",
   "execution_count": 11,
   "metadata": {},
   "outputs": [
    {
     "data": {
      "text/plain": [
       "Index(['x1', 'y1', 'x2', 'y2', 'x3', 'y3', 'x4', 'y4', 'x5', 'y5', 'x6', 'y6',\n",
       "       'x7', 'y7', 'x8', 'y8', 'label'],\n",
       "      dtype='object')"
      ]
     },
     "execution_count": 11,
     "metadata": {},
     "output_type": "execute_result"
    }
   ],
   "source": [
    "dataset_pen.columns"
   ]
  },
  {
   "cell_type": "code",
   "execution_count": 12,
   "metadata": {},
   "outputs": [
    {
     "data": {
      "text/plain": [
       "10992"
      ]
     },
     "execution_count": 12,
     "metadata": {},
     "output_type": "execute_result"
    }
   ],
   "source": [
    "dataset_pen['label'].count()"
   ]
  },
  {
   "cell_type": "code",
   "execution_count": 13,
   "metadata": {},
   "outputs": [
    {
     "data": {
      "text/plain": [
       "<matplotlib.axes._subplots.AxesSubplot at 0x1fb965f0320>"
      ]
     },
     "execution_count": 13,
     "metadata": {},
     "output_type": "execute_result"
    },
    {
     "data": {
      "image/png": "[encoded data removed]",
      "text/plain": [
       "<Figure size 432x288 with 1 Axes>"
      ]
     },
     "metadata": {
      "needs_background": "light"
     },
     "output_type": "display_data"
    }
   ],
   "source": [
    "sns.countplot(dataset_pen['label'])"
   ]
  },
  {
   "cell_type": "code",
   "execution_count": 14,
   "metadata": {},
   "outputs": [
    {
     "data": {
      "text/plain": [
       "<matplotlib.axes._subplots.AxesSubplot at 0x1fb968d5470>"
      ]
     },
     "execution_count": 14,
     "metadata": {},
     "output_type": "execute_result"
    },
    {
     "data": {
      "image/png": "[encoded data removed]",
      "text/plain": [
       "<Figure size 432x288 with 1 Axes>"
      ]
     },
     "metadata": {
      "needs_background": "light"
     },
     "output_type": "display_data"
    }
   ],
   "source": [
    "dataset_pen.boxplot(column= 'label')"
   ]
  },
  {
   "cell_type": "code",
   "execution_count": 15,
   "metadata": {},
   "outputs": [
    {
     "data": {
      "text/html": [
       "<div>\n",
       "<style scoped>\n",
       "    .dataframe tbody tr th:only-of-type {\n",
       "        vertical-align: middle;\n",
       "    }\n",
       "\n",
       "    .dataframe tbody tr th {\n",
       "        vertical-align: top;\n",
       "    }\n",
       "\n",
       "    .dataframe thead th {\n",
       "        text-align: right;\n",
       "    }\n",
       "</style>\n",
       "<table border=\"1\" class=\"dataframe\">\n",
       "  <thead>\n",
       "    <tr style=\"text-align: right;\">\n",
       "      <th></th>\n",
       "      <th>x1</th>\n",
       "      <th>y1</th>\n",
       "      <th>x2</th>\n",
       "      <th>y2</th>\n",
       "      <th>x3</th>\n",
       "      <th>y3</th>\n",
       "      <th>x4</th>\n",
       "      <th>y4</th>\n",
       "      <th>x5</th>\n",
       "      <th>y5</th>\n",
       "      <th>x6</th>\n",
       "      <th>y6</th>\n",
       "      <th>x7</th>\n",
       "      <th>y7</th>\n",
       "      <th>x8</th>\n",
       "      <th>y8</th>\n",
       "      <th>label</th>\n",
       "    </tr>\n",
       "  </thead>\n",
       "  <tbody>\n",
       "    <tr>\n",
       "      <th>count</th>\n",
       "      <td>10992.000000</td>\n",
       "      <td>10992.000000</td>\n",
       "      <td>10992.000000</td>\n",
       "      <td>10992.000000</td>\n",
       "      <td>10992.000000</td>\n",
       "      <td>10992.000000</td>\n",
       "      <td>10992.000000</td>\n",
       "      <td>10992.000000</td>\n",
       "      <td>10992.000000</td>\n",
       "      <td>10992.000000</td>\n",
       "      <td>10992.000000</td>\n",
       "      <td>10992.000000</td>\n",
       "      <td>10992.000000</td>\n",
       "      <td>10992.000000</td>\n",
       "      <td>10992.000000</td>\n",
       "      <td>10992.000000</td>\n",
       "      <td>10992.000000</td>\n",
       "    </tr>\n",
       "    <tr>\n",
       "      <th>mean</th>\n",
       "      <td>38.814320</td>\n",
       "      <td>85.120269</td>\n",
       "      <td>40.605622</td>\n",
       "      <td>83.774199</td>\n",
       "      <td>49.770378</td>\n",
       "      <td>65.573144</td>\n",
       "      <td>51.220251</td>\n",
       "      <td>44.498999</td>\n",
       "      <td>56.868541</td>\n",
       "      <td>33.695961</td>\n",
       "      <td>60.516376</td>\n",
       "      <td>34.826510</td>\n",
       "      <td>55.022289</td>\n",
       "      <td>34.937045</td>\n",
       "      <td>47.287482</td>\n",
       "      <td>28.845342</td>\n",
       "      <td>4.431587</td>\n",
       "    </tr>\n",
       "    <tr>\n",
       "      <th>std</th>\n",
       "      <td>34.257783</td>\n",
       "      <td>16.218571</td>\n",
       "      <td>26.342984</td>\n",
       "      <td>19.163646</td>\n",
       "      <td>34.100515</td>\n",
       "      <td>26.996688</td>\n",
       "      <td>30.576881</td>\n",
       "      <td>29.906104</td>\n",
       "      <td>34.135530</td>\n",
       "      <td>27.251548</td>\n",
       "      <td>37.288086</td>\n",
       "      <td>27.119982</td>\n",
       "      <td>22.335539</td>\n",
       "      <td>33.155463</td>\n",
       "      <td>41.760400</td>\n",
       "      <td>35.778094</td>\n",
       "      <td>2.876947</td>\n",
       "    </tr>\n",
       "    <tr>\n",
       "      <th>min</th>\n",
       "      <td>0.000000</td>\n",
       "      <td>0.000000</td>\n",
       "      <td>0.000000</td>\n",
       "      <td>0.000000</td>\n",
       "      <td>0.000000</td>\n",
       "      <td>0.000000</td>\n",
       "      <td>0.000000</td>\n",
       "      <td>0.000000</td>\n",
       "      <td>0.000000</td>\n",
       "      <td>0.000000</td>\n",
       "      <td>0.000000</td>\n",
       "      <td>0.000000</td>\n",
       "      <td>0.000000</td>\n",
       "      <td>0.000000</td>\n",
       "      <td>0.000000</td>\n",
       "      <td>0.000000</td>\n",
       "      <td>0.000000</td>\n",
       "    </tr>\n",
       "    <tr>\n",
       "      <th>25%</th>\n",
       "      <td>6.000000</td>\n",
       "      <td>76.000000</td>\n",
       "      <td>20.000000</td>\n",
       "      <td>72.000000</td>\n",
       "      <td>18.000000</td>\n",
       "      <td>49.000000</td>\n",
       "      <td>28.000000</td>\n",
       "      <td>23.000000</td>\n",
       "      <td>29.000000</td>\n",
       "      <td>7.000000</td>\n",
       "      <td>23.000000</td>\n",
       "      <td>11.000000</td>\n",
       "      <td>42.000000</td>\n",
       "      <td>5.000000</td>\n",
       "      <td>0.000000</td>\n",
       "      <td>0.000000</td>\n",
       "      <td>2.000000</td>\n",
       "    </tr>\n",
       "    <tr>\n",
       "      <th>50%</th>\n",
       "      <td>32.000000</td>\n",
       "      <td>89.000000</td>\n",
       "      <td>40.000000</td>\n",
       "      <td>91.000000</td>\n",
       "      <td>53.000000</td>\n",
       "      <td>71.000000</td>\n",
       "      <td>53.500000</td>\n",
       "      <td>43.000000</td>\n",
       "      <td>60.000000</td>\n",
       "      <td>33.000000</td>\n",
       "      <td>73.000000</td>\n",
       "      <td>30.000000</td>\n",
       "      <td>53.000000</td>\n",
       "      <td>27.000000</td>\n",
       "      <td>40.000000</td>\n",
       "      <td>9.000000</td>\n",
       "      <td>4.000000</td>\n",
       "    </tr>\n",
       "    <tr>\n",
       "      <th>75%</th>\n",
       "      <td>65.000000</td>\n",
       "      <td>100.000000</td>\n",
       "      <td>58.000000</td>\n",
       "      <td>100.000000</td>\n",
       "      <td>78.000000</td>\n",
       "      <td>86.000000</td>\n",
       "      <td>74.000000</td>\n",
       "      <td>64.000000</td>\n",
       "      <td>89.000000</td>\n",
       "      <td>54.000000</td>\n",
       "      <td>97.000000</td>\n",
       "      <td>55.000000</td>\n",
       "      <td>68.000000</td>\n",
       "      <td>47.000000</td>\n",
       "      <td>100.000000</td>\n",
       "      <td>51.000000</td>\n",
       "      <td>7.000000</td>\n",
       "    </tr>\n",
       "    <tr>\n",
       "      <th>max</th>\n",
       "      <td>100.000000</td>\n",
       "      <td>100.000000</td>\n",
       "      <td>100.000000</td>\n",
       "      <td>100.000000</td>\n",
       "      <td>100.000000</td>\n",
       "      <td>100.000000</td>\n",
       "      <td>100.000000</td>\n",
       "      <td>100.000000</td>\n",
       "      <td>100.000000</td>\n",
       "      <td>100.000000</td>\n",
       "      <td>100.000000</td>\n",
       "      <td>100.000000</td>\n",
       "      <td>100.000000</td>\n",
       "      <td>100.000000</td>\n",
       "      <td>100.000000</td>\n",
       "      <td>100.000000</td>\n",
       "      <td>9.000000</td>\n",
       "    </tr>\n",
       "  </tbody>\n",
       "</table>\n",
       "</div>"
      ],
      "text/plain": [
       "                 x1            y1            x2            y2            x3  \\\n",
       "count  10992.000000  10992.000000  10992.000000  10992.000000  10992.000000   \n",
       "mean      38.814320     85.120269     40.605622     83.774199     49.770378   \n",
       "std       34.257783     16.218571     26.342984     19.163646     34.100515   \n",
       "min        0.000000      0.000000      0.000000      0.000000      0.000000   \n",
       "25%        6.000000     76.000000     20.000000     72.000000     18.000000   \n",
       "50%       32.000000     89.000000     40.000000     91.000000     53.000000   \n",
       "75%       65.000000    100.000000     58.000000    100.000000     78.000000   \n",
       "max      100.000000    100.000000    100.000000    100.000000    100.000000   \n",
       "\n",
       "                 y3            x4            y4            x5            y5  \\\n",
       "count  10992.000000  10992.000000  10992.000000  10992.000000  10992.000000   \n",
       "mean      65.573144     51.220251     44.498999     56.868541     33.695961   \n",
       "std       26.996688     30.576881     29.906104     34.135530     27.251548   \n",
       "min        0.000000      0.000000      0.000000      0.000000      0.000000   \n",
       "25%       49.000000     28.000000     23.000000     29.000000      7.000000   \n",
       "50%       71.000000     53.500000     43.000000     60.000000     33.000000   \n",
       "75%       86.000000     74.000000     64.000000     89.000000     54.000000   \n",
       "max      100.000000    100.000000    100.000000    100.000000    100.000000   \n",
       "\n",
       "                 x6            y6            x7            y7            x8  \\\n",
       "count  10992.000000  10992.000000  10992.000000  10992.000000  10992.000000   \n",
       "mean      60.516376     34.826510     55.022289     34.937045     47.287482   \n",
       "std       37.288086     27.119982     22.335539     33.155463     41.760400   \n",
       "min        0.000000      0.000000      0.000000      0.000000      0.000000   \n",
       "25%       23.000000     11.000000     42.000000      5.000000      0.000000   \n",
       "50%       73.000000     30.000000     53.000000     27.000000     40.000000   \n",
       "75%       97.000000     55.000000     68.000000     47.000000    100.000000   \n",
       "max      100.000000    100.000000    100.000000    100.000000    100.000000   \n",
       "\n",
       "                 y8         label  \n",
       "count  10992.000000  10992.000000  \n",
       "mean      28.845342      4.431587  \n",
       "std       35.778094      2.876947  \n",
       "min        0.000000      0.000000  \n",
       "25%        0.000000      2.000000  \n",
       "50%        9.000000      4.000000  \n",
       "75%       51.000000      7.000000  \n",
       "max      100.000000      9.000000  "
      ]
     },
     "execution_count": 15,
     "metadata": {},
     "output_type": "execute_result"
    }
   ],
   "source": [
    "dataset_pen.describe()"
   ]
  },
  {
   "cell_type": "code",
   "execution_count": 16,
   "metadata": {},
   "outputs": [
    {
     "data": {
      "text/plain": [
       "<matplotlib.axes._subplots.AxesSubplot at 0x1fb9689f198>"
      ]
     },
     "execution_count": 16,
     "metadata": {},
     "output_type": "execute_result"
    },
    {
     "data": {
      "image/png": "[encoded data removed]",
      "text/plain": [
       "<Figure size 720x504 with 1 Axes>"
      ]
     },
     "metadata": {
      "needs_background": "light"
     },
     "output_type": "display_data"
    }
   ],
   "source": [
    "dataset_pen.boxplot(figsize= (10,7))"
   ]
  },
  {
   "cell_type": "code",
   "execution_count": 17,
   "metadata": {},
   "outputs": [
    {
     "data": {
      "text/plain": [
       "x1       0\n",
       "y1       0\n",
       "x2       0\n",
       "y2       0\n",
       "x3       0\n",
       "y3       0\n",
       "x4       0\n",
       "y4       0\n",
       "x5       0\n",
       "y5       0\n",
       "x6       0\n",
       "y6       0\n",
       "x7       0\n",
       "y7       0\n",
       "x8       0\n",
       "y8       0\n",
       "label    0\n",
       "dtype: int64"
      ]
     },
     "execution_count": 17,
     "metadata": {},
     "output_type": "execute_result"
    }
   ],
   "source": [
    "dataset_pen.isnull().sum() "
   ]
  },
  {
   "cell_type": "markdown",
   "metadata": {},
   "source": [
    "### Finding Relationship Between Variables for Feature Selection if required"
   ]
  },
  {
   "cell_type": "code",
   "execution_count": 18,
   "metadata": {},
   "outputs": [],
   "source": [
    "corr = dataset_pen.corr().abs()\n",
    "corr = corr.unstack()\n",
    "corr = corr.sort_values(kind=\"quicksort\", ascending = False)"
   ]
  },
  {
   "cell_type": "code",
   "execution_count": 19,
   "metadata": {},
   "outputs": [],
   "source": [
    "corr = corr[corr < 1.0]\n",
    "corr = corr.drop_duplicates()"
   ]
  },
  {
   "cell_type": "code",
   "execution_count": 20,
   "metadata": {},
   "outputs": [
    {
     "name": "stdout",
     "output_type": "stream",
     "text": [
      "y7  y8    0.857205\n",
      "dtype: float64\n",
      "x8  x7    0.000832\n",
      "dtype: float64\n"
     ]
    }
   ],
   "source": [
    "print(corr.head(1))     #Maximum Correlation\n",
    "print(corr.tail(1))     #Minimum Correlation"
   ]
  },
  {
   "cell_type": "code",
   "execution_count": 21,
   "metadata": {},
   "outputs": [
    {
     "data": {
      "text/plain": [
       "<matplotlib.axes._subplots.AxesSubplot at 0x1fb96d26630>"
      ]
     },
     "execution_count": 21,
     "metadata": {},
     "output_type": "execute_result"
    },
    {
     "data": {
      "image/png": "[encoded data removed]",
      "text/plain": [
       "<Figure size 720x720 with 2 Axes>"
      ]
     },
     "metadata": {
      "needs_background": "light"
     },
     "output_type": "display_data"
    }
   ],
   "source": [
    "heat = dataset_pen.corr()\n",
    "fig, ax = plt.subplots(figsize=(10,10))\n",
    "sns.heatmap(heat , ax=ax, cmap=\"YlGnBu\")\n",
    "\n"
   ]
  },
  {
   "cell_type": "markdown",
   "metadata": {},
   "source": [
    "## Perfoming Data Mining"
   ]
  },
  {
   "cell_type": "code",
   "execution_count": 22,
   "metadata": {},
   "outputs": [],
   "source": [
    "X = dataset_pen.values[:,:-1]\n",
    "y = dataset_pen.values[:,-1]"
   ]
  },
  {
   "cell_type": "code",
   "execution_count": 23,
   "metadata": {},
   "outputs": [
    {
     "data": {
      "text/plain": [
       "((10992, 16), (10992,))"
      ]
     },
     "execution_count": 23,
     "metadata": {},
     "output_type": "execute_result"
    }
   ],
   "source": [
    "X.shape , y.shape"
   ]
  },
  {
   "cell_type": "markdown",
   "metadata": {},
   "source": [
    "### Plotting the Pen Digit Numbers"
   ]
  },
  {
   "cell_type": "code",
   "execution_count": 24,
   "metadata": {},
   "outputs": [],
   "source": [
    "np.random.seed(1)\n",
    "random_numbers = [np.random.randint(0,1000,10)]"
   ]
  },
  {
   "cell_type": "code",
   "execution_count": 25,
   "metadata": {},
   "outputs": [
    {
     "data": {
      "image/png": "[encoded data removed]",
      "text/plain": [
       "<Figure size 1080x720 with 10 Axes>"
      ]
     },
     "metadata": {
      "needs_background": "light"
     },
     "output_type": "display_data"
    }
   ],
   "source": [
    "plt.figure(figsize=(15,10))\n",
    "for i in range(10):\n",
    "    plt.subplot(2,5,i+1)\n",
    "    r,c = [X[random_numbers[0][i]][x] for x in range(0,16,2)],[X[random_numbers[0][i]][x] for x in range(1,16,2)]\n",
    "    plt.scatter(r,c)\n",
    "    plt.title(y[random_numbers[0][i]])"
   ]
  },
  {
   "cell_type": "markdown",
   "metadata": {},
   "source": [
    "### Decision Tree using GridSearchCV and RandomizedSearchCV"
   ]
  },
  {
   "cell_type": "code",
   "execution_count": 30,
   "metadata": {},
   "outputs": [],
   "source": [
    "def report(results, n_top=3):\n",
    "    for i in range(1, n_top + 1):\n",
    "        a = np.flatnonzero(results['rank_test_score'] == i)\n",
    "        for j in a:\n",
    "            print(\"Model with rank: {0}\".format(i))\n",
    "            print(\"Mean validation score: {0:.3f} (std: {1:.3f})\".format(\n",
    "                  results['mean_test_score'][j],\n",
    "                  results['std_test_score'][j]))\n",
    "            print(\"Parameters: {0}\".format(results['params'][j]))"
   ]
  },
  {
   "cell_type": "code",
   "execution_count": 31,
   "metadata": {},
   "outputs": [
    {
     "name": "stdout",
     "output_type": "stream",
     "text": [
      "\n",
      "RandomizedSearchCV took 168.24 seconds for 320 candidates parameter settings.\n",
      "Model with rank: 1\n",
      "Mean validation score: 0.962 (std: 0.004)\n",
      "Parameters: {'random_state': None, 'presort': False, 'max_depth': 14, 'criterion': 'entropy', 'class_weight': None}\n",
      "Model with rank: 2\n",
      "Mean validation score: 0.961 (std: 0.002)\n",
      "Parameters: {'random_state': None, 'presort': True, 'max_depth': 13, 'criterion': 'entropy', 'class_weight': None}\n",
      "Model with rank: 3\n",
      "Mean validation score: 0.960 (std: 0.002)\n",
      "Parameters: {'random_state': None, 'presort': False, 'max_depth': 19, 'criterion': 'entropy', 'class_weight': None}\n",
      "None\n"
     ]
    }
   ],
   "source": [
    "classifier = DecisionTreeClassifier()\n",
    "max_depth = [int(x) for x in np.linspace(1, 21, num = 20)]\n",
    "parameters = {\n",
    "                'max_depth': max_depth,\n",
    "                \"random_state\":[100,None],\n",
    "                \"presort\": [True, False],\n",
    "                \"class_weight\":[ \"balanced\" , None],\n",
    "                \"criterion\": [\"gini\", \"entropy\"]}\n",
    "\n",
    "random_search = RandomizedSearchCV(classifier,param_distributions=parameters\n",
    "                                   ,n_iter=320 , cv=5 , n_jobs=-2)\n",
    "\n",
    "n_iter_search = 320\n",
    "start = time()\n",
    "random_search.fit(X, y)\n",
    "print((\"\\nRandomizedSearchCV took {:.2f} seconds \"\n",
    "           \"for {:d} candidates parameter \"\n",
    "           \"settings.\").format((time() - start),\n",
    "                               n_iter_search))\n",
    "\n",
    "bestparameters = report(random_search.cv_results_, 3)\n",
    "print(bestparameters)"
   ]
  },
  {
   "cell_type": "code",
   "execution_count": 32,
   "metadata": {},
   "outputs": [
    {
     "name": "stdout",
     "output_type": "stream",
     "text": [
      "\n",
      "GridSearchCV took 23.89 seconds for 18 candidate parameter settings.\n",
      "Model with rank: 1\n",
      "Mean validation score: 0.961 (std: 0.003)\n",
      "Parameters: {'class_weight': None, 'criterion': 'entropy', 'max_depth': 18, 'presort': False, 'random_state': None}\n",
      "Model with rank: 2\n",
      "Mean validation score: 0.961 (std: 0.004)\n",
      "Parameters: {'class_weight': None, 'criterion': 'entropy', 'max_depth': 17, 'presort': True, 'random_state': None}\n",
      "Model with rank: 3\n",
      "Mean validation score: 0.961 (std: 0.004)\n",
      "Parameters: {'class_weight': None, 'criterion': 'entropy', 'max_depth': 21, 'presort': True, 'random_state': None}\n",
      "None\n"
     ]
    }
   ],
   "source": [
    "classifier = DecisionTreeClassifier()\n",
    "max_depth = [int(x) for x in np.linspace(1, 21, num = 20)]\n",
    "parameters = {\n",
    "                'max_depth': max_depth,\n",
    "                \"random_state\":[100,None],\n",
    "                \"presort\": [True, False],\n",
    "                \"class_weight\":[ \"balanced\" , None],\n",
    "                \"criterion\": [\"gini\", \"entropy\"]}\n",
    "\n",
    "grid_search = GridSearchCV(classifier,param_grid=parameters, cv=5 , n_jobs = -2)\n",
    "\n",
    "start = time()\n",
    "grid_search.fit(X, y)\n",
    "print((\"\\nGridSearchCV took {:.2f} \"\n",
    "           \"seconds for {:d} candidate \"\n",
    "           \"parameter settings.\").format(time() - start,\n",
    "                len(grid_search.cv_results_)))\n",
    "\n",
    "best_parameter = report(grid_search.cv_results_, 3)\n",
    "print(best_parameter)"
   ]
  },
  {
   "cell_type": "code",
   "execution_count": 33,
   "metadata": {},
   "outputs": [
    {
     "data": {
      "text/plain": [
       "<matplotlib.legend.Legend at 0x1fb975bd128>"
      ]
     },
     "execution_count": 33,
     "metadata": {},
     "output_type": "execute_result"
    },
    {
     "data": {
      "image/png": "[encoded data removed]",
      "text/plain": [
       "<Figure size 432x288 with 1 Axes>"
      ]
     },
     "metadata": {
      "needs_background": "light"
     },
     "output_type": "display_data"
    }
   ],
   "source": [
    "classifier = DecisionTreeClassifier(max_depth= 18, criterion='entropy', presort=True, random_state=None, class_weight=None)\n",
    "plt.figure()\n",
    "plt.title(\"Learning Curves\")\n",
    "plt.xlabel(\"Number of Training Examples\")\n",
    "plt.ylabel(\"Accuracy\")\n",
    "train_sizes, train_scores, test_scores = learning_curve(classifier, X, y, cv=5)\n",
    "train_scores_mean = np.mean(train_scores, axis=1)\n",
    "train_scores_std = np.std(train_scores, axis=1)\n",
    "test_scores_mean = np.mean(test_scores, axis=1)\n",
    "test_scores_std = np.std(test_scores, axis=1)\n",
    "plt.grid()\n",
    "plt.fill_between(train_sizes, train_scores_mean - train_scores_std, train_scores_mean + train_scores_std, alpha=0.1, color=\"b\")\n",
    "plt.fill_between(train_sizes, test_scores_mean - test_scores_std, test_scores_mean + test_scores_std, alpha=0.1, color=\"r\")\n",
    "plt.plot(train_sizes, train_scores_mean, 'o-', color=\"b\", label=\"Training score\")\n",
    "plt.plot(train_sizes, test_scores_mean, 'o-', color=\"r\", label=\"Cross-validation score\")\n",
    "plt.legend(loc=\"best\")"
   ]
  },
  {
   "cell_type": "code",
   "execution_count": 35,
   "metadata": {},
   "outputs": [],
   "source": [
    "X_train, X_test, y_train, y_test = train_test_split(X, y, test_size=0.30)"
   ]
  },
  {
   "cell_type": "code",
   "execution_count": 36,
   "metadata": {},
   "outputs": [],
   "source": [
    "train_error, test_error = [],[]\n",
    "for depth_limit in range(1, 21):\n",
    "   \n",
    "    classifier = DecisionTreeClassifier(max_depth= depth_limit, criterion='entropy', presort = True, random_state= None\n",
    "                                       , class_weight= None)\n",
    "    classifier.fit(X, y)\n",
    "    train_error.append(1-classifier.score(X_train, y_train))\n",
    "    test_error.append(1-np.mean(cross_val_score(classifier, X, y, cv=3)))"
   ]
  },
  {
   "cell_type": "code",
   "execution_count": 37,
   "metadata": {},
   "outputs": [
    {
     "data": {
      "text/plain": [
       "Text(0, 0.5, 'Err')"
      ]
     },
     "execution_count": 37,
     "metadata": {},
     "output_type": "execute_result"
    },
    {
     "data": {
      "image/png": "[encoded data removed]",
      "text/plain": [
       "<Figure size 432x288 with 1 Axes>"
      ]
     },
     "metadata": {
      "needs_background": "light"
     },
     "output_type": "display_data"
    }
   ],
   "source": [
    "plt.figure()\n",
    "plt.plot(train_error, label=\"Training Error\")\n",
    "plt.plot(test_error, label=\"Cross Validation Error\")\n",
    "plt.ylim([0, 0.9])\n",
    "plt.title(\"Error vs Depth\")\n",
    "plt.xlabel(\"Depth of the Tree\")\n",
    "plt.ylabel(\"Err\")"
   ]
  },
  {
   "cell_type": "markdown",
   "metadata": {},
   "source": [
    "### Normalization\n",
    "    "
   ]
  },
  {
   "cell_type": "code",
   "execution_count": 38,
   "metadata": {},
   "outputs": [],
   "source": [
    "X_normalized = preprocessing.normalize(X, norm='l2')"
   ]
  },
  {
   "cell_type": "markdown",
   "metadata": {},
   "source": [
    "### Using GridSearchCV for finding the best hyper parameters for the Normalized Data"
   ]
  },
  {
   "cell_type": "code",
   "execution_count": 39,
   "metadata": {
    "scrolled": true
   },
   "outputs": [
    {
     "name": "stdout",
     "output_type": "stream",
     "text": [
      "\n",
      "GridSearchCV took 70.82 seconds for 18 candidate parameter settings.\n",
      "Model with rank: 1\n",
      "Mean validation score: 0.963 (std: 0.002)\n",
      "Parameters: {'class_weight': 'balanced', 'criterion': 'entropy', 'max_depth': 16, 'presort': False, 'random_state': None}\n",
      "Model with rank: 2\n",
      "Mean validation score: 0.963 (std: 0.004)\n",
      "Parameters: {'class_weight': None, 'criterion': 'entropy', 'max_depth': 19, 'presort': False, 'random_state': None}\n",
      "Model with rank: 3\n",
      "Mean validation score: 0.963 (std: 0.003)\n",
      "Parameters: {'class_weight': None, 'criterion': 'entropy', 'max_depth': 18, 'presort': True, 'random_state': None}\n",
      "None\n"
     ]
    }
   ],
   "source": [
    "classifier = DecisionTreeClassifier()\n",
    "max_depth = [int(x) for x in np.linspace(1, 21, num = 20)]\n",
    "parameters = {\n",
    "                'max_depth': max_depth,\n",
    "                \"random_state\":[100,None],\n",
    "                \"presort\": [True, False],\n",
    "                \"class_weight\":[ \"balanced\" , None],\n",
    "                \"criterion\": [\"gini\", \"entropy\"]}\n",
    "\n",
    "grid_search = GridSearchCV(classifier,param_grid=parameters, cv=5 , n_jobs= -2)\n",
    "\n",
    "start = time()\n",
    "grid_search.fit(X_normalized, y)\n",
    "print((\"\\nGridSearchCV took {:.2f} \"\n",
    "           \"seconds for {:d} candidate \"\n",
    "           \"parameter settings.\").format(time() - start,\n",
    "                len(grid_search.cv_results_)))\n",
    "\n",
    "best_parameter = report(grid_search.cv_results_, 3)\n",
    "print(best_parameter)"
   ]
  },
  {
   "cell_type": "markdown",
   "metadata": {},
   "source": [
    "### Performing Dimensionality Reduction on the Normalized Data, to see if it improves our accuracy"
   ]
  },
  {
   "cell_type": "code",
   "execution_count": 40,
   "metadata": {},
   "outputs": [
    {
     "data": {
      "image/png": "[encoded data removed]",
      "text/plain": [
       "<Figure size 432x288 with 1 Axes>"
      ]
     },
     "metadata": {
      "needs_background": "light"
     },
     "output_type": "display_data"
    }
   ],
   "source": [
    "pca = PCA().fit(X_normalized)\n",
    "plt.plot(np.cumsum(pca.explained_variance_ratio_)*100)\n",
    "plt.xlabel('Number of Components')\n",
    "plt.ylabel('Percentage Variance');"
   ]
  },
  {
   "cell_type": "code",
   "execution_count": 41,
   "metadata": {},
   "outputs": [],
   "source": [
    "pca = PCA(n_components=12).fit(X_normalized)\n",
    "X_pca_normalized = pca.transform(X_normalized)"
   ]
  },
  {
   "cell_type": "code",
   "execution_count": 42,
   "metadata": {},
   "outputs": [],
   "source": [
    "X_pca_train, X_pca_test, y_pca_train, y_pca_test = train_test_split(X_pca_normalized, y, test_size=0.30)"
   ]
  },
  {
   "cell_type": "code",
   "execution_count": 43,
   "metadata": {},
   "outputs": [
    {
     "data": {
      "text/plain": [
       "0.9484536082474226"
      ]
     },
     "execution_count": 43,
     "metadata": {},
     "output_type": "execute_result"
    }
   ],
   "source": [
    "classifier = DecisionTreeClassifier(max_depth= 18, criterion='entropy', presort = False, random_state= None\n",
    "                                       , class_weight= None)\n",
    "classifier.fit(X_pca_train, y_pca_train)\n",
    "y_pred = classifier.predict(X_pca_test)\n",
    "accuracy_score(y_pred,y_pca_test)"
   ]
  },
  {
   "cell_type": "markdown",
   "metadata": {},
   "source": [
    "## Our Final Classifier:"
   ]
  },
  {
   "cell_type": "code",
   "execution_count": 44,
   "metadata": {
    "scrolled": true
   },
   "outputs": [
    {
     "data": {
      "text/plain": [
       "DecisionTreeClassifier(class_weight=None, criterion='entropy', max_depth=18,\n",
       "                       max_features=None, max_leaf_nodes=None,\n",
       "                       min_impurity_decrease=0.0, min_impurity_split=None,\n",
       "                       min_samples_leaf=1, min_samples_split=2,\n",
       "                       min_weight_fraction_leaf=0.0, presort=False,\n",
       "                       random_state=None, splitter='best')"
      ]
     },
     "execution_count": 44,
     "metadata": {},
     "output_type": "execute_result"
    }
   ],
   "source": [
    "classifier = DecisionTreeClassifier(max_depth= 18, criterion='entropy', presort = False, random_state= None\n",
    "                                       , class_weight= None)\n",
    "classifier.fit(X_normalized,y)"
   ]
  },
  {
   "cell_type": "code",
   "execution_count": null,
   "metadata": {},
   "outputs": [],
   "source": []
  },
  {
   "cell_type": "markdown",
   "metadata": {},
   "source": [
    "## Now working on the MNIST Dataset\n",
    "\n",
    "### First we sample 50 instances of each label"
   ]
  },
  {
   "cell_type": "code",
   "execution_count": 69,
   "metadata": {},
   "outputs": [],
   "source": [
    "np.random.seed(1)\n",
    "dataset_sampled_mnist = pd.DataFrame(columns=col1, dtype='int64')\n",
    "for i in range(10):\n",
    "    samples = dataset_mnist[dataset_mnist.label==i].sample(50, replace=False)\n",
    "    dataset_sampled_mnist = pd.concat([dataset_sampled_mnist, samples], ignore_index=True)"
   ]
  },
  {
   "cell_type": "code",
   "execution_count": 70,
   "metadata": {},
   "outputs": [],
   "source": [
    "X_mnist = dataset_sampled_mnist[col1[1:]]\n",
    "y_mnist = dataset_sampled_mnist[col1[0]]"
   ]
  },
  {
   "cell_type": "code",
   "execution_count": 71,
   "metadata": {},
   "outputs": [],
   "source": [
    "X_mnist = X_mnist.values[:] \n",
    "X_mnist = X_mnist.reshape(-1,28,28)"
   ]
  },
  {
   "cell_type": "markdown",
   "metadata": {},
   "source": [
    "### Perfoming Image Processing and Visualization on the MNIST data"
   ]
  },
  {
   "cell_type": "code",
   "execution_count": 72,
   "metadata": {},
   "outputs": [
    {
     "data": {
      "image/png": "[encoded data removed]",
      "text/plain": [
       "<Figure size 1080x1080 with 10 Axes>"
      ]
     },
     "metadata": {
      "needs_background": "light"
     },
     "output_type": "display_data"
    }
   ],
   "source": [
    "a = 0\n",
    "plt.figure(figsize=(15,15))\n",
    "for i in range(0,500,50):\n",
    "    a = a + 1\n",
    "    plt.subplot(2,5,a)\n",
    "    plt.imshow(X_mnist[i])\n",
    "    "
   ]
  },
  {
   "cell_type": "code",
   "execution_count": 73,
   "metadata": {},
   "outputs": [],
   "source": [
    "coord_list = []\n",
    "i1,j1 = 0,0\n",
    "for x in range(500):\n",
    "    num_coords = []\n",
    "    for i in range(28):\n",
    "        for j in range(28):\n",
    "            if(X_mnist[x][i][j] > 235):\n",
    "                j1 = int(j*100/28)\n",
    "                i1 = int((28-i)*100/28)\n",
    "                num_coords.append((j1, i1))\n",
    "    coord_list.append(num_coords)"
   ]
  },
  {
   "cell_type": "code",
   "execution_count": 74,
   "metadata": {},
   "outputs": [
    {
     "data": {
      "image/png": "[encoded data removed]",
      "text/plain": [
       "<Figure size 864x720 with 10 Axes>"
      ]
     },
     "metadata": {
      "needs_background": "light"
     },
     "output_type": "display_data"
    }
   ],
   "source": [
    "a = 0\n",
    "plt.figure(figsize=(12,10))\n",
    "for i in range(0,500,50):\n",
    "    a = a + 1\n",
    "    plt.subplot(2,5,a)\n",
    "    x,y = zip(*coord_list[i])\n",
    "    x,y = np.array(x), np.array(y)\n",
    "    plt.scatter(x,y)\n",
    "    plt.xlim((0,100))\n",
    "    plt.ylim((0,100))\n",
    "    "
   ]
  },
  {
   "cell_type": "markdown",
   "metadata": {},
   "source": [
    "## Using K-Means Clustering to find the Cluster Centres of all the Samples"
   ]
  },
  {
   "cell_type": "code",
   "execution_count": 75,
   "metadata": {},
   "outputs": [],
   "source": [
    "np.random.seed(1)\n",
    "from sklearn.cluster import KMeans\n",
    "kmeans = KMeans(n_clusters=8,max_iter=300)"
   ]
  },
  {
   "cell_type": "code",
   "execution_count": 76,
   "metadata": {},
   "outputs": [],
   "source": [
    "np.random.seed(1)\n",
    "final_eight_coords = []\n",
    "for i in range(500):\n",
    "    kmeans.fit(coord_list[i])\n",
    "    final_eight_coords.append(kmeans.cluster_centers_)"
   ]
  },
  {
   "cell_type": "markdown",
   "metadata": {},
   "source": [
    "### Plotting The Final 8 Co-ordinates and Creating a Dataframe"
   ]
  },
  {
   "cell_type": "code",
   "execution_count": 77,
   "metadata": {},
   "outputs": [
    {
     "data": {
      "image/png": "[encoded data removed]",
      "text/plain": [
       "<Figure size 864x720 with 10 Axes>"
      ]
     },
     "metadata": {
      "needs_background": "light"
     },
     "output_type": "display_data"
    }
   ],
   "source": [
    "a = 0\n",
    "plt.figure(figsize=(12,10))\n",
    "for i in range(0,500,50):\n",
    "    a = a + 1\n",
    "    plt.subplot(2,5,a)\n",
    "    x,y = zip(*final_eight_coords[i])\n",
    "    x,y = np.array(x), np.array(y)\n",
    "    plt.scatter(x,y)\n",
    "    plt.xlim((0,100))\n",
    "    plt.ylim((0,100))\n",
    "    "
   ]
  },
  {
   "cell_type": "code",
   "execution_count": 78,
   "metadata": {},
   "outputs": [],
   "source": [
    "final_eight_coords = np.stack(final_eight_coords)\n",
    "final_eight_coords = final_eight_coords.astype(int)"
   ]
  },
  {
   "cell_type": "code",
   "execution_count": 79,
   "metadata": {},
   "outputs": [],
   "source": [
    "x,y = [],[]\n",
    "for q in range(500):\n",
    "    for i in range(0,8):\n",
    "            x.append(final_eight_coords[q][i][0])\n",
    "            y.append(final_eight_coords[q][i][1])"
   ]
  },
  {
   "cell_type": "code",
   "execution_count": 80,
   "metadata": {},
   "outputs": [
    {
     "data": {
      "text/plain": [
       "(4000, 4000)"
      ]
     },
     "execution_count": 80,
     "metadata": {},
     "output_type": "execute_result"
    }
   ],
   "source": [
    "len(x), len(y)"
   ]
  },
  {
   "cell_type": "code",
   "execution_count": 81,
   "metadata": {},
   "outputs": [],
   "source": [
    "x1= x[:4000:8]\n",
    "x2= x[1:4000:8]\n",
    "x3= x[2:4000:8]\n",
    "x4= x[3:4000:8]\n",
    "x5= x[4:4000:8]\n",
    "x6= x[5:4000:8]\n",
    "x7= x[6:4000:8]\n",
    "x8= x[7:4000:8]"
   ]
  },
  {
   "cell_type": "code",
   "execution_count": 82,
   "metadata": {},
   "outputs": [],
   "source": [
    "y1= y[:4000:8]\n",
    "y2= y[1:4000:8]\n",
    "y3= y[2:4000:8]\n",
    "y4= y[3:4000:8]\n",
    "y5= y[4:4000:8]\n",
    "y6= y[5:4000:8]\n",
    "y7= y[6:4000:8]\n",
    "y8= y[7:4000:8]"
   ]
  },
  {
   "cell_type": "code",
   "execution_count": 83,
   "metadata": {},
   "outputs": [],
   "source": [
    "data_mnist = pd.DataFrame(data=[x1,y1,x2,y2,x3,y3,x4,y4,x5,y5,x6,y6,x7,y7,x8,y8]).transpose()\n",
    "data_mnist.columns = ['x1','y1','x2','y2','x3','y3','x4','y4','x5','y5','x6','y6','x7','y7','x8','y8']"
   ]
  },
  {
   "cell_type": "code",
   "execution_count": 84,
   "metadata": {},
   "outputs": [
    {
     "data": {
      "text/html": [
       "<div>\n",
       "<style scoped>\n",
       "    .dataframe tbody tr th:only-of-type {\n",
       "        vertical-align: middle;\n",
       "    }\n",
       "\n",
       "    .dataframe tbody tr th {\n",
       "        vertical-align: top;\n",
       "    }\n",
       "\n",
       "    .dataframe thead th {\n",
       "        text-align: right;\n",
       "    }\n",
       "</style>\n",
       "<table border=\"1\" class=\"dataframe\">\n",
       "  <thead>\n",
       "    <tr style=\"text-align: right;\">\n",
       "      <th></th>\n",
       "      <th>x1</th>\n",
       "      <th>y1</th>\n",
       "      <th>x2</th>\n",
       "      <th>y2</th>\n",
       "      <th>x3</th>\n",
       "      <th>y3</th>\n",
       "      <th>x4</th>\n",
       "      <th>y4</th>\n",
       "      <th>x5</th>\n",
       "      <th>y5</th>\n",
       "      <th>x6</th>\n",
       "      <th>y6</th>\n",
       "      <th>x7</th>\n",
       "      <th>y7</th>\n",
       "      <th>x8</th>\n",
       "      <th>y8</th>\n",
       "    </tr>\n",
       "  </thead>\n",
       "  <tbody>\n",
       "    <tr>\n",
       "      <th>0</th>\n",
       "      <td>63</td>\n",
       "      <td>28</td>\n",
       "      <td>25</td>\n",
       "      <td>48</td>\n",
       "      <td>55</td>\n",
       "      <td>81</td>\n",
       "      <td>79</td>\n",
       "      <td>49</td>\n",
       "      <td>42</td>\n",
       "      <td>19</td>\n",
       "      <td>35</td>\n",
       "      <td>64</td>\n",
       "      <td>25</td>\n",
       "      <td>31</td>\n",
       "      <td>74</td>\n",
       "      <td>72</td>\n",
       "    </tr>\n",
       "    <tr>\n",
       "      <th>1</th>\n",
       "      <td>39</td>\n",
       "      <td>22</td>\n",
       "      <td>60</td>\n",
       "      <td>77</td>\n",
       "      <td>40</td>\n",
       "      <td>56</td>\n",
       "      <td>59</td>\n",
       "      <td>44</td>\n",
       "      <td>50</td>\n",
       "      <td>81</td>\n",
       "      <td>64</td>\n",
       "      <td>60</td>\n",
       "      <td>37</td>\n",
       "      <td>37</td>\n",
       "      <td>54</td>\n",
       "      <td>30</td>\n",
       "    </tr>\n",
       "    <tr>\n",
       "      <th>2</th>\n",
       "      <td>64</td>\n",
       "      <td>41</td>\n",
       "      <td>26</td>\n",
       "      <td>25</td>\n",
       "      <td>69</td>\n",
       "      <td>79</td>\n",
       "      <td>39</td>\n",
       "      <td>58</td>\n",
       "      <td>72</td>\n",
       "      <td>57</td>\n",
       "      <td>46</td>\n",
       "      <td>29</td>\n",
       "      <td>55</td>\n",
       "      <td>71</td>\n",
       "      <td>23</td>\n",
       "      <td>44</td>\n",
       "    </tr>\n",
       "  </tbody>\n",
       "</table>\n",
       "</div>"
      ],
      "text/plain": [
       "   x1  y1  x2  y2  x3  y3  x4  y4  x5  y5  x6  y6  x7  y7  x8  y8\n",
       "0  63  28  25  48  55  81  79  49  42  19  35  64  25  31  74  72\n",
       "1  39  22  60  77  40  56  59  44  50  81  64  60  37  37  54  30\n",
       "2  64  41  26  25  69  79  39  58  72  57  46  29  55  71  23  44"
      ]
     },
     "execution_count": 84,
     "metadata": {},
     "output_type": "execute_result"
    }
   ],
   "source": [
    "data_mnist.head(3)"
   ]
  },
  {
   "cell_type": "code",
   "execution_count": 85,
   "metadata": {},
   "outputs": [],
   "source": [
    "X_mnist_test = data_mnist.values\n",
    "X_mnist_test = preprocessing.normalize(X_mnist_test, norm= 'l2')"
   ]
  },
  {
   "cell_type": "code",
   "execution_count": 86,
   "metadata": {},
   "outputs": [
    {
     "data": {
      "text/plain": [
       "array([[0.29501806, 0.13111914, 0.11707066, ..., 0.14516762, 0.34652915,\n",
       "        0.3371635 ],\n",
       "       [0.18385185, 0.1037113 , 0.282849  , ..., 0.17442355, 0.2545641 ,\n",
       "        0.1414245 ],\n",
       "       [0.30208177, 0.19352114, 0.12272072, ..., 0.33512197, 0.10856064,\n",
       "        0.20768122],\n",
       "       ...,\n",
       "       [0.17265487, 0.06906195, 0.25158281, ..., 0.24664982, 0.22691783,\n",
       "        0.14798989],\n",
       "       [0.26172381, 0.36165472, 0.18558598, ..., 0.36165472, 0.25220658,\n",
       "        0.19510321],\n",
       "       [0.2066835 , 0.3297094 , 0.28049904, ..., 0.29034111, 0.25097283,\n",
       "        0.12794693]])"
      ]
     },
     "execution_count": 86,
     "metadata": {},
     "output_type": "execute_result"
    }
   ],
   "source": [
    "X_mnist_test"
   ]
  }
 ],
 "metadata": {
  "kernelspec": {
   "display_name": "Python 3",
   "language": "python",
   "name": "python3"
  },
  "language_info": {
   "codemirror_mode": {
    "name": "ipython",
    "version": 3
   },
   "file_extension": ".py",
   "mimetype": "text/x-python",
   "name": "python",
   "nbconvert_exporter": "python",
   "pygments_lexer": "ipython3",
   "version": "3.7.3"
  }
 },
 "nbformat": 4,
 "nbformat_minor": 2
}
